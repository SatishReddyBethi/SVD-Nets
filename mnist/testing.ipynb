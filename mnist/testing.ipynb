{
 "cells": [
  {
   "cell_type": "markdown",
   "metadata": {},
   "source": [
    "### Test single svd using NumPy"
   ]
  },
  {
   "cell_type": "code",
   "execution_count": 2,
   "metadata": {},
   "outputs": [],
   "source": [
    "import numpy as np"
   ]
  },
  {
   "cell_type": "code",
   "execution_count": 2,
   "metadata": {},
   "outputs": [],
   "source": [
    "a = np.array([[1,2,3],[3,1,2],[5,8,1]])\n",
    "b = np.array([5,10,15])\n",
    "u,s,vT = np.linalg.svd(a, full_matrices=False)\n",
    "s_eye = np.eye(s.shape[0])*s"
   ]
  },
  {
   "cell_type": "code",
   "execution_count": 3,
   "metadata": {},
   "outputs": [
    {
     "name": "stdout",
     "output_type": "stream",
     "text": [
      "[[0.00952296 0.         0.        ]\n",
      " [0.         0.09994002 0.        ]\n",
      " [0.         0.         0.33505232]]\n",
      "[[0.00952296 0.         0.        ]\n",
      " [0.         0.09994002 0.        ]\n",
      " [0.         0.         0.33505232]]\n"
     ]
    }
   ],
   "source": [
    "# Check if 1/s is different from np.linalg.pinv\n",
    "sigma_rec = 1/s\n",
    "sigma_inv = np.eye(s.shape[0])*(sigma_rec*sigma_rec)\n",
    "print(sigma_inv)\n",
    "print(np.linalg.pinv(s_eye.T@s_eye))"
   ]
  },
  {
   "cell_type": "code",
   "execution_count": 4,
   "metadata": {},
   "outputs": [
    {
     "name": "stdout",
     "output_type": "stream",
     "text": [
      "Calculated Solution: a:2.8571 b:0.0000 c:0.7143\n",
      "Actual Solution:     a:2.8571 b:0.0000 c:0.7143\n"
     ]
    }
   ],
   "source": [
    "x = vT.T@sigma_inv@s_eye.T@u.T@b\n",
    "print(f\"Calculated Solution: a:{x[0]:.4f} b:{x[1]:.4f} c:{x[2]:.4f}\")\n",
    "print(f\"Actual Solution:     a:{20/7:.4f} b:{0:.4f} c:{5/7:.4f}\")"
   ]
  },
  {
   "cell_type": "markdown",
   "metadata": {},
   "source": [
    "### Test multiplying with singular matrix instead of using np.eye"
   ]
  },
  {
   "cell_type": "code",
   "execution_count": 104,
   "metadata": {},
   "outputs": [
    {
     "name": "stdout",
     "output_type": "stream",
     "text": [
      "Singular Values: [10.2474  3.1632  1.7276]\n",
      "Singular Inverse Values: [0.0976 0.3161 0.5788]\n",
      "Calculated Solution: [ 2.8571 -0.      0.7143]\n"
     ]
    }
   ],
   "source": [
    "a = np.array([[1,2,3],[3,1,2],[5,8,1]])\n",
    "b = np.array([5,10,15])\n",
    "u,s,vT = np.linalg.svd(a, full_matrices=False)\n",
    "sigma_rec = 1/s\n",
    "x = (vT.T*sigma_rec)@u.T@b\n",
    "print(f\"Singular Values: {np.round(s,4)}\")\n",
    "print(f\"Singular Inverse Values: {np.round(sigma_rec,4)}\")\n",
    "print(f\"Calculated Solution: {np.round(x,4)}\")"
   ]
  },
  {
   "cell_type": "markdown",
   "metadata": {},
   "source": [
    "### Solve multiple eqns in 3D using NumPy"
   ]
  },
  {
   "cell_type": "code",
   "execution_count": 132,
   "metadata": {},
   "outputs": [
    {
     "name": "stdout",
     "output_type": "stream",
     "text": [
      "Singular Values: [9.5133 3.0732 1.0261]\n",
      "Calculated Solution: [ 2.6667  1.1333 -1.7333]\n"
     ]
    }
   ],
   "source": [
    "# Get value for second set of equations so we can verify later\n",
    "a = np.array([[1,4,3],[2,1,2],[1,8,1]])\n",
    "b = np.array([2,3,10])\n",
    "u,s,vT = np.linalg.svd(a, full_matrices=False)\n",
    "sigma_rec = 1/s\n",
    "x = vT.T*sigma_rec@u.T@b\n",
    "print(f\"Singular Values: {np.round(s,4)}\")\n",
    "print(f\"Calculated Solution: {np.round(x,4)}\")"
   ]
  },
  {
   "cell_type": "code",
   "execution_count": 131,
   "metadata": {},
   "outputs": [
    {
     "name": "stdout",
     "output_type": "stream",
     "text": [
      "Singular Values: [[10.2474  3.1632  1.7276]\n",
      " [ 9.5133  3.0732  1.0261]]\n",
      "Calculated Solution: [[[ 2.8571]\n",
      "  [-0.    ]\n",
      "  [ 0.7143]]\n",
      "\n",
      " [[ 2.6667]\n",
      "  [ 1.1333]\n",
      "  [-1.7333]]]\n"
     ]
    }
   ],
   "source": [
    "# Run SVD on 3D Array\n",
    "a = np.array([[[1,2,3],[3,1,2],[5,8,1]],[[1,4,3],[2,1,2],[1,8,1]]])\n",
    "b = np.array([[5,10,15],[2,3,10]])\n",
    "#print(a.shape,b.shape)\n",
    "u,s,vT = np.linalg.svd(a, full_matrices=False)\n",
    "sigma_rec = 1/s.reshape(2,1,3)\n",
    "x = vT.transpose(0,2,1)*sigma_rec\n",
    "x = x@u.transpose(0,2,1)\n",
    "x = x@b.reshape(2,3,1)\n",
    "print(f\"Singular Values: {np.round(s,4)}\")\n",
    "print(f\"Calculated Solution: {np.round(x,4)}\")"
   ]
  },
  {
   "cell_type": "code",
   "execution_count": 144,
   "metadata": {},
   "outputs": [
    {
     "name": "stdout",
     "output_type": "stream",
     "text": [
      "(5, 4) (5, 4) (4,) (4, 4)\n"
     ]
    }
   ],
   "source": [
    "print(a.shape,u.shape,s.shape,vT.shape)"
   ]
  },
  {
   "cell_type": "code",
   "execution_count": 147,
   "metadata": {},
   "outputs": [
    {
     "name": "stdout",
     "output_type": "stream",
     "text": [
      "[-7.66823861 -7.53866471 -2.66634807 20.89684907]\n"
     ]
    }
   ],
   "source": [
    "z = a.T @ u[:,0]\n",
    "print(z)"
   ]
  },
  {
   "cell_type": "code",
   "execution_count": 148,
   "metadata": {},
   "outputs": [
    {
     "data": {
      "text/plain": [
       "(4, 5)"
      ]
     },
     "execution_count": 148,
     "metadata": {},
     "output_type": "execute_result"
    }
   ],
   "source": [
    "(vT.T@sigma_inv@s_eye.T@u.T).shape"
   ]
  },
  {
   "cell_type": "code",
   "execution_count": 17,
   "metadata": {},
   "outputs": [
    {
     "name": "stdout",
     "output_type": "stream",
     "text": [
      "tensor([[ 1.0000e+00,  2.0000e+00,  3.0000e+00, -4.0000e+00],\n",
      "        [ 3.0000e+00,  1.0000e+00,  2.0000e+00, -9.0000e+00],\n",
      "        [ 5.0000e+00,  8.0000e+00,  1.0000e+00, -1.4000e+01],\n",
      "        [ 1.3847e-09,  4.2152e-07, -2.4310e-07,  1.0000e+00],\n",
      "        [ 5.0000e+00,  2.0000e+00,  1.0000e+00, -1.2000e+01]])\n",
      "Singular Values: tensor([23.6521,  4.2748,  2.8290,  0.5494])\n",
      "Calculated Solution: tensor([1.2766, 0.1111, 0.5533, 0.4921])\n"
     ]
    }
   ],
   "source": [
    "import torch\n",
    "a = torch.Tensor([[1,2,3,-4],[3,1,2,-9],[5,8,1,-14],[0,0,0,1],[5,2,1,-12]])\n",
    "b = torch.Tensor([1,1,1,1,1])\n",
    "u,s,vT = torch.linalg.svd(a, full_matrices=False)\n",
    "s_eye = torch.eye(s.shape[0])*s\n",
    "a_recon = u@s_eye@vT\n",
    "print(a_recon)\n",
    "sigma_rec = 1/s\n",
    "sigma_inv = torch.eye(s.shape[0])*(sigma_rec*sigma_rec)\n",
    "x = vT.T@sigma_inv@s_eye.T@u.T@b\n",
    "print(f\"Singular Values: {np.round(s,4)}\")\n",
    "print(f\"Calculated Solution: {np.round(x,4)}\")"
   ]
  },
  {
   "cell_type": "code",
   "execution_count": 97,
   "metadata": {},
   "outputs": [
    {
     "name": "stdout",
     "output_type": "stream",
     "text": [
      "(2, 3, 3) (2, 3, 1) (2, 3, 1)\n",
      "[[[1 1 1]\n",
      "  [4 4 4]\n",
      "  [9 9 9]]\n",
      "\n",
      " [[6 6 6]\n",
      "  [6 6 6]\n",
      "  [6 6 6]]]\n",
      "[[1 1 1]\n",
      " [4 4 4]\n",
      " [9 9 9]]\n"
     ]
    }
   ],
   "source": [
    "x1 = np.array([[[1,2,3],[1,2,3],[1,2,3]],[[2,2,2],[2,2,2],[2,2,2]]])\n",
    "x2 = np.array([[1,2,3],[3,3,3]])\n",
    "x2 = x2.reshape(2,3,1)\n",
    "print(x1.shape,x2.shape,(x1@x2).shape)\n",
    "#print(x1*x2)\n",
    "#print(x1[0]*x2[0])\n",
    "print(x1.transpose(0,2,1)*x2)\n",
    "print(x1[0].T*x2[0])"
   ]
  },
  {
   "cell_type": "code",
   "execution_count": 127,
   "metadata": {},
   "outputs": [
    {
     "name": "stdout",
     "output_type": "stream",
     "text": [
      "[0.10511625 0.32539221 0.97454458]\n",
      "[[0.10511625]\n",
      " [0.32539221]\n",
      " [0.97454458]]\n"
     ]
    }
   ],
   "source": [
    "print(sigma_rec)\n",
    "print(sigma_rec.reshape(3,1))"
   ]
  },
  {
   "cell_type": "code",
   "execution_count": 167,
   "metadata": {},
   "outputs": [
    {
     "name": "stdout",
     "output_type": "stream",
     "text": [
      "Singular Values: [10.2474  3.1632  1.7276]\n",
      "Calculated Solution: [ 2.8571 -0.      0.7143]\n"
     ]
    }
   ],
   "source": [
    "a = np.array([[1,2,3],[3,1,2],[5,8,1]])\n",
    "b = np.array([5,10,15])\n",
    "u,s,vT = np.linalg.svd(a, full_matrices=False)\n",
    "sigma_rec = 1/s\n",
    "x = vT.T*sigma_rec@u.T@b\n",
    "print(f\"Singular Values: {np.round(s,4)}\")\n",
    "print(f\"Calculated Solution: {np.round(x,4)}\")"
   ]
  },
  {
   "cell_type": "code",
   "execution_count": 193,
   "metadata": {},
   "outputs": [
    {
     "name": "stdout",
     "output_type": "stream",
     "text": [
      "Singular Values: [42.4293  8.1407  2.7361]\n",
      "Calculated Solution: [ 2.2017 -0.0486 -0.3709]\n"
     ]
    }
   ],
   "source": [
    "# S*Vh@X=U.T@B\n",
    "a_new = s.reshape(3,1)*vT\n",
    "a_new = np.vstack([a_new,[[4,23,3],[2,34,2],[5,2,3]]])\n",
    "b_new = np.hstack([u.T@b,[5,2,3]])\n",
    "u_new,s_new,vT_new = np.linalg.svd(a_new, full_matrices=False)\n",
    "x_new = vT_new.T*(1/s_new)@u_new.T@b_new\n",
    "print(f\"Singular Values: {np.round(s_new,4)}\")\n",
    "print(f\"Calculated Solution: {np.round(x_new,4)}\")"
   ]
  },
  {
   "cell_type": "code",
   "execution_count": 192,
   "metadata": {},
   "outputs": [
    {
     "name": "stdout",
     "output_type": "stream",
     "text": [
      "Singular Values: [42.4293  8.1407  2.7361]\n",
      "Calculated Solution: [ 2.2017 -0.0486 -0.3709]\n"
     ]
    }
   ],
   "source": [
    "a_test = np.array([[1,2,3],[3,1,2],[5,8,1],[4,23,3],[2,34,2],[5,2,3]])\n",
    "b_test = np.array([5,10,15,5,2,3])\n",
    "u_test,s_test,vT_test = np.linalg.svd(a_test, full_matrices=False)\n",
    "x_test = vT_test.T*(1/s_test)@u_test.T@b_test\n",
    "print(f\"Singular Values: {np.round(s_test,4)}\")\n",
    "print(f\"Calculated Solution: {np.round(x_test,4)}\")"
   ]
  },
  {
   "cell_type": "code",
   "execution_count": 217,
   "metadata": {},
   "outputs": [
    {
     "name": "stdout",
     "output_type": "stream",
     "text": [
      "tensor([0.9900])\n"
     ]
    },
    {
     "data": {
      "text/plain": [
       "tensor([4.5951])"
      ]
     },
     "execution_count": 217,
     "metadata": {},
     "output_type": "execute_result"
    }
   ],
   "source": [
    "a = torch.Tensor([0.99])\n",
    "print(a)\n",
    "torch.special.logit(a, eps=1e-6)"
   ]
  },
  {
   "cell_type": "code",
   "execution_count": 213,
   "metadata": {},
   "outputs": [
    {
     "data": {
      "text/plain": [
       "tensor([0.5000])"
      ]
     },
     "execution_count": 213,
     "metadata": {},
     "output_type": "execute_result"
    }
   ],
   "source": [
    "a = torch.Tensor([0])\n",
    "torch.sigmoid(a)"
   ]
  },
  {
   "cell_type": "code",
   "execution_count": 244,
   "metadata": {},
   "outputs": [
    {
     "name": "stdout",
     "output_type": "stream",
     "text": [
      "{0: {3: tensor([[ 13.8023, -13.8155, -13.8155, -13.8155, -13.8155]])}, 1: {3: tensor([[-13.8155,  13.8023, -13.8155, -13.8155, -13.8155]])}, 2: {3: tensor([[-13.8155, -13.8155,  13.8023, -13.8155, -13.8155]])}, 3: {3: tensor([[-13.8155, -13.8155, -13.8155,  13.8023, -13.8155]])}, 4: {3: tensor([[-13.8155, -13.8155, -13.8155, -13.8155,  13.8023]])}}\n",
      "tensor([[-13.8155,  13.8023, -13.8155, -13.8155, -13.8155]])\n"
     ]
    }
   ],
   "source": [
    "y = [0,1,2,3,4]\n",
    "num_layers = 3\n",
    "num_classes = 5\n",
    "A = {}\n",
    "for i in y:\n",
    "    one_hot_y = F.one_hot(torch.tensor([i]), num_classes=5)\n",
    "    A[i]={num_layers: torch.special.logit((one_hot_y), eps=1e-6)}\n",
    "print(A)\n",
    "print(A[1][3])"
   ]
  },
  {
   "cell_type": "code",
   "execution_count": 222,
   "metadata": {},
   "outputs": [
    {
     "ename": "IndexError",
     "evalue": "list assignment index out of range",
     "output_type": "error",
     "traceback": [
      "\u001b[0;31m---------------------------------------------------------------------------\u001b[0m",
      "\u001b[0;31mIndexError\u001b[0m                                Traceback (most recent call last)",
      "Cell \u001b[0;32mIn[222], line 2\u001b[0m\n\u001b[1;32m      1\u001b[0m t \u001b[38;5;241m=\u001b[39m [[]\u001b[38;5;241m*\u001b[39m\u001b[38;5;241m3\u001b[39m]\n\u001b[0;32m----> 2\u001b[0m \u001b[43mt\u001b[49m\u001b[43m[\u001b[49m\u001b[38;5;241;43m1\u001b[39;49m\u001b[43m]\u001b[49m \u001b[38;5;241m=\u001b[39m \u001b[38;5;241m5\u001b[39m\n",
      "\u001b[0;31mIndexError\u001b[0m: list assignment index out of range"
     ]
    }
   ],
   "source": [
    "t = [[]*3]\n",
    "t[1] = 5"
   ]
  },
  {
   "cell_type": "code",
   "execution_count": 237,
   "metadata": {},
   "outputs": [
    {
     "data": {
      "text/plain": [
       "tensor([[0, 1, 0, 0, 0],\n",
       "        [0, 0, 1, 0, 0],\n",
       "        [0, 0, 0, 1, 0]])"
      ]
     },
     "execution_count": 237,
     "metadata": {},
     "output_type": "execute_result"
    }
   ],
   "source": [
    "import torch.nn.functional as F\n",
    "F.one_hot(torch.tensor([1,2,3]), num_classes=5)"
   ]
  },
  {
   "cell_type": "code",
   "execution_count": 247,
   "metadata": {},
   "outputs": [
    {
     "data": {
      "text/plain": [
       "tensor([0., 0., 0.])"
      ]
     },
     "execution_count": 247,
     "metadata": {},
     "output_type": "execute_result"
    }
   ],
   "source": [
    "torch.zeros(torch.tensor([1,2,3]).shape)"
   ]
  },
  {
   "cell_type": "code",
   "execution_count": 5,
   "metadata": {},
   "outputs": [
    {
     "data": {
      "text/plain": [
       "tensor(9)"
      ]
     },
     "execution_count": 5,
     "metadata": {},
     "output_type": "execute_result"
    }
   ],
   "source": [
    "import torch\n",
    "a = torch.tensor([[1,2,3],[1,2,3],[1,2,3]])\n",
    "b = torch.tensor([[1,2,3],[1,2,3],[1,2,3]])\n",
    "torch.sum(a==b)"
   ]
  },
  {
   "cell_type": "code",
   "execution_count": null,
   "metadata": {},
   "outputs": [],
   "source": []
  }
 ],
 "metadata": {
  "kernelspec": {
   "display_name": "Python 3 (ipykernel)",
   "language": "python",
   "name": "python3"
  },
  "language_info": {
   "codemirror_mode": {
    "name": "ipython",
    "version": 3
   },
   "file_extension": ".py",
   "mimetype": "text/x-python",
   "name": "python",
   "nbconvert_exporter": "python",
   "pygments_lexer": "ipython3",
   "version": "3.8.15"
  }
 },
 "nbformat": 4,
 "nbformat_minor": 4
}
